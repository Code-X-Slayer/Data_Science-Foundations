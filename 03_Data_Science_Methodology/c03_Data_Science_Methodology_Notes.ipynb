{
 "cells": [
  {
   "cell_type": "markdown",
   "id": "77458df8-68e4-42f2-98bd-ef645a3729a2",
   "metadata": {},
   "source": [
    "# `Data Science Methodology` - Course Summary"
   ]
  },
  {
   "cell_type": "markdown",
   "id": "a1e46d72-ab49-4541-9ad9-4a8749b78df1",
   "metadata": {},
   "source": [
    "## 1. Introduction\n",
    "This course explores a structured, step-by-step approach to data science projects. Methodology ensures clarity, planning, and measurable results.\n",
    "\n",
    "We’ll use a **practical example**: **E-commerce Customer Churn Prediction** – predicting which customers are likely to stop buying, so targeted retention strategies can be applied."
   ]
  },
  {
   "cell_type": "markdown",
   "id": "0300757a-2a64-44dd-81e3-26a792ce5b49",
   "metadata": {},
   "source": [
    "## 2. The 10 Stages of a Data Science Project"
   ]
  },
  {
   "cell_type": "markdown",
   "id": "1e732b39-c861-49d3-81c6-832f24fa3491",
   "metadata": {},
   "source": [
    "### 1. Business Understanding\n",
    "- Define the real problem clearly.  \n",
    "- **Example:** “Which customers are likely to churn in the next 3 months, and how can we retain them?”"
   ]
  },
  {
   "cell_type": "markdown",
   "id": "137993c4-bc70-45a6-9efc-12c30fd88c7d",
   "metadata": {},
   "source": [
    "### 2. Analytic Approach\n",
    "- Choose the type of analysis: descriptive, diagnostic, predictive, prescriptive.  \n",
    "- **Example:** Predictive classification to identify high-risk customers, combined with prescriptive recommendations for retention campaigns."
   ]
  },
  {
   "cell_type": "markdown",
   "id": "c4c030bb-a0f2-4f04-897f-53618fd14194",
   "metadata": {},
   "source": [
    "### 3. Data Requirements\n",
    "- Specify exactly what data is needed:  \n",
    "  - Customer demographics  \n",
    "  - Purchase history and frequency  \n",
    "  - Website/app activity logs  \n",
    "  - Customer support interactions  \n",
    "- Include criteria for inclusion/exclusion (e.g., active users in the last year)."
   ]
  },
  {
   "cell_type": "markdown",
   "id": "24bf1bd4-184b-425f-9622-9d11e219260b",
   "metadata": {},
   "source": [
    "### 4. Data Collection\n",
    "- Gather data from all relevant sources:  \n",
    "  - Internal CRM and transaction databases  \n",
    "  - Website analytics and app usage logs  \n",
    "  - Customer support ticketing systems  \n",
    "- Check for missing or delayed data and plan how to handle gaps."
   ]
  },
  {
   "cell_type": "markdown",
   "id": "a0f38132-42b3-4db5-8d2e-0c738609a2e6",
   "metadata": {},
   "source": [
    "### 5. Data Understanding\n",
    "\n",
    "**a) Data Profiling**  \n",
    "- Check distributions of variables (age, purchase frequency, spending patterns).  \n",
    "\n",
    "**b) Missing Values**  \n",
    "- Identify gaps in customer info, transactions, or activity logs.  \n",
    "\n",
    "**c) Outliers Detection**  \n",
    "- Spot unusual spending patterns or activity spikes.  \n",
    "\n",
    "**d) Correlation Analysis**  \n",
    "- Understand relationships, e.g., between product categories bought and churn risk.  \n",
    "\n",
    "**e) Visualization**  \n",
    "- Use histograms, scatterplots, heatmaps to detect patterns or anomalies."
   ]
  },
  {
   "cell_type": "markdown",
   "id": "e42c46e2-adb6-447c-b55c-b42b89c2c4c4",
   "metadata": {},
   "source": [
    "### 6. Data Preparation\n",
    "- Clean, merge, and transform datasets:  \n",
    "  - Handle missing values, fix inconsistencies, unify formats.  \n",
    "  - Aggregate transaction history into features (e.g., average spend per month).  \n",
    "  - Feature engineering: create churn-risk scores, engagement metrics.\n"
   ]
  },
  {
   "cell_type": "markdown",
   "id": "5c0f9d40-0381-40a7-b8ec-99e0c0966770",
   "metadata": {},
   "source": [
    "### 7. Modeling\n",
    "- Apply algorithms to predict churn:  \n",
    "  - Logistic Regression, Random Forest, Gradient Boosting.  \n",
    "  - Test various features and model settings iteratively."
   ]
  },
  {
   "cell_type": "markdown",
   "id": "7222b4d1-0425-437e-a95b-43b9deb3fef8",
   "metadata": {},
   "source": [
    "### 8. Evaluation\n",
    "- Evaluate model quality:  \n",
    "  - Classification metrics: accuracy, precision, recall, F1-score, ROC-AUC.  \n",
    "  - Focus on minimizing the most costly errors (false negatives = missed churn)."
   ]
  },
  {
   "cell_type": "markdown",
   "id": "f030a8d6-601a-49aa-ae45-cc13f95f498c",
   "metadata": {},
   "source": [
    "### 9. Deployment\n",
    "- Make the model actionable:  \n",
    "  - Integrate into marketing platform to trigger retention campaigns.  \n",
    "  - Dashboard for managers to view at-risk customers."
   ]
  },
  {
   "cell_type": "markdown",
   "id": "357546f4-c74e-4914-830f-dbb43437c9ca",
   "metadata": {},
   "source": [
    "### 10. Feedback\n",
    "- Collect results and refine continuously:  \n",
    "  - Track retention campaign outcomes and updated churn rates.  \n",
    "  - Adjust features, model parameters, or business rules as new data comes in."
   ]
  },
  {
   "cell_type": "markdown",
   "id": "18969f11-b935-483d-a69a-0b6e5fe9b89b",
   "metadata": {},
   "source": [
    "## 3. Key Concepts and Terms\n",
    "- **Analytic Approach:** Choosing how to solve the problem (predictive, prescriptive, etc.).  \n",
    "- **Feature Engineering:** Creating new inputs from raw data (e.g., engagement metrics).  \n",
    "- **ROC Curve:** Measures model performance in classification.  \n",
    "- **Churn Prediction:** Identifying customers likely to stop using a service.  "
   ]
  },
  {
   "cell_type": "markdown",
   "id": "85827bd6-3035-4f62-9f1d-f6ac7a5a1004",
   "metadata": {},
   "source": [
    "## 4. Key Takeaways\n",
    "- Following a structured methodology prevents wasted effort.  \n",
    "- The 10-stage flow works across domains (e-commerce, finance, healthcare, etc.).  \n",
    "- Linking each stage to a practical example makes concepts concrete.  \n",
    "- Success depends not just on model accuracy but also on deployment and feedback.  \n",
    "- Knowing *which tool to pick at which stage* is more valuable than knowing every tool."
   ]
  },
  {
   "cell_type": "markdown",
   "id": "40d986f7-e358-4426-9da6-eb070e24c463",
   "metadata": {},
   "source": [
    "## 5. My Takeaways for AIML Journey\n",
    "- Having a structured **methodology** helps me stay focused and not get lost in tools.  \n",
    "- The **10 stages** give me a clear roadmap for any project I’ll build.  \n",
    "- Working with real-world examples (like churn prediction) prepares me for practical AI/ML problems.  \n",
    "- Success is not just about model accuracy — deployment, feedback, and iteration are equally important.  \n",
    "- These principles will guide me in building my AIML portfolio projects step by step.  "
   ]
  },
  {
   "cell_type": "markdown",
   "id": "6d0cb703-ce56-4d67-bda7-2d902ec8b465",
   "metadata": {},
   "source": [
    "---\n",
    "## Note\n",
    "- This notebook is **inspired by** the *Data Science Methodology* course by IBM on Coursera.  \n",
    "- I summarized the **main stages** and explained them in my own words.  \n",
    "- It is **not a full copy** of the course content.  \n",
    "- Shared for **learning purposes only**, with full credit to IBM and the course instructors for the original inspiration.  "
   ]
  },
  {
   "cell_type": "markdown",
   "id": "312158f2-675c-49e9-bac3-27d157d7e68b",
   "metadata": {},
   "source": [
    "## Author\n",
    "Vijay Karthik"
   ]
  }
 ],
 "metadata": {
  "kernelspec": {
   "display_name": "Python 3 (ipykernel)",
   "language": "python",
   "name": "python3"
  },
  "language_info": {
   "codemirror_mode": {
    "name": "ipython",
    "version": 3
   },
   "file_extension": ".py",
   "mimetype": "text/x-python",
   "name": "python",
   "nbconvert_exporter": "python",
   "pygments_lexer": "ipython3",
   "version": "3.11.13"
  }
 },
 "nbformat": 4,
 "nbformat_minor": 5
}
