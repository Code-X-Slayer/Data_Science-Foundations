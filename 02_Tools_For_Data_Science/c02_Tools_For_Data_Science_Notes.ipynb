{
 "cells": [
  {
   "cell_type": "markdown",
   "id": "f2a5a4d0-6564-4f0b-a8f0-6e9f4a2d7711",
   "metadata": {},
   "source": [
    "# `Tools for Data Science` – Course Summary"
   ]
  },
  {
   "cell_type": "markdown",
   "id": "8d1db555-bb75-4a79-bc44-14d25b159b28",
   "metadata": {},
   "source": [
    "## 1. How a Data Science Project Flows\n",
    "Every project usually follows these stages:\n",
    "1. **Collecting Data**  \n",
    "2. **Cleaning & Preparing Data**  \n",
    "3. **Exploring & Visualizing Data**  \n",
    "4. **Model Building**  \n",
    "5. **Model Deployment & Sharing Insights**  \n",
    "\n",
    "At each stage, we use specific tools. Some are open-source, some are commercial.  "
   ]
  },
  {
   "cell_type": "markdown",
   "id": "aeffcc45-03bf-427f-ba0b-68b6950dc48c",
   "metadata": {},
   "source": [
    "## 2. Collecting & Storing Data\n",
    "- **SQL** → Querying databases (e.g., MySQL, PostgreSQL).  \n",
    "- **Python / R** → Pulling data via APIs or files (e.g., Twitter API).  \n",
    "- **Big Data Tools** → Hadoop (distributed storage), Spark (handling huge datasets).  \n",
    "- **Commercial Databases** → Oracle, IBM Db2 for enterprise-scale data.  "
   ]
  },
  {
   "cell_type": "markdown",
   "id": "290887da-1e71-449e-aeac-446b277c1cb2",
   "metadata": {},
   "source": [
    "## 3. Cleaning & Preparing Data\n",
    "- **Python (Pandas, NumPy)** → Handling missing values, filtering, merging.  \n",
    "- **R (dplyr, tidyr)** → Data wrangling and transformation.  \n",
    "- **OpenRefine** → Free tool for messy data cleaning.  \n",
    "- **ETL Tools** → Talend, Informatica (popular in industries).  "
   ]
  },
  {
   "cell_type": "markdown",
   "id": "9ebb604d-3e7a-45a9-86a4-f5d42c3ea444",
   "metadata": {},
   "source": [
    "## 4. Exploring & Visualizing Data\n",
    "- **Python (Matplotlib, Seaborn, Plotly)** → Interactive or static charts.  \n",
    "- **R (ggplot2, Shiny)** → Rich statistical plots and dashboards.  \n",
    "- **Tableau / Power BI** → Drag-and-drop dashboards for business users.  \n",
    "- **D3.js** → Web-based interactive graphics.  "
   ]
  },
  {
   "cell_type": "markdown",
   "id": "60e2b67a-a33b-418e-a6ca-e0dac53c6661",
   "metadata": {},
   "source": [
    "## 5. Model Building\n",
    "- **Python (scikit-learn, TensorFlow, PyTorch)** → ML & Deep Learning frameworks.  \n",
    "- **R (caret, randomForest)** → Strong ML support in statistical context.  \n",
    "- **Apache Spark MLlib** → Scales machine learning to massive datasets.  \n",
    "- **Commercial**: SAS, IBM Watson Studio → Enterprise ML platforms.  "
   ]
  },
  {
   "cell_type": "markdown",
   "id": "0c8115b7-db09-40ec-a51d-95330a63efee",
   "metadata": {},
   "source": [
    "## 6. Deployment & Sharing\n",
    "- **Jupyter Notebooks / RStudio** → For coding + sharing.  \n",
    "- **Flask / FastAPI** → To deploy ML models as web services.  \n",
    "- **Docker / Kubernetes** → To containerize and scale ML models.  \n",
    "- **Tableau / Power BI** → To present results as dashboards.  \n",
    "- **Git & GitHub** → To collaborate and version control the project.  "
   ]
  },
  {
   "cell_type": "markdown",
   "id": "c26060f6-2e58-49c1-b35d-9269a1a19ade",
   "metadata": {},
   "source": [
    "## 7. My Key Takeaways\n",
    "- Tools are **not the goal** → they are helpers to move through the data science workflow.  \n",
    "- Python + Jupyter + SQL → my starting pack.  \n",
    "- As projects grow, Spark (for Big Data) and Tableau (for visuals) become valuable.  \n",
    "- No single tool fits all → best data scientists mix & match depending on the problem.\n",
    "- Knowing *which tool to pick at which stage* is more valuable than knowing every tool."
   ]
  },
  {
   "cell_type": "markdown",
   "id": "8a9b9003-a947-4200-a710-74e908f0ea85",
   "metadata": {},
   "source": [
    "---\n",
    "## Note\n",
    "- This notebook is **inspired by** the *Tools for Data Science* course by IBM on Coursera.  \n",
    "- I summarized the **main ideas** and explained them in my own words.  \n",
    "- It is **not a full copy** of the course content.  \n",
    "- Shared for **learning purposes only**, with full credit to IBM and the course instructors for the original inspiration.  "
   ]
  },
  {
   "cell_type": "markdown",
   "id": "8573a7d7-13da-40f5-933d-37ee4af2e0cd",
   "metadata": {},
   "source": [
    "## Author\n",
    "Vijay Karthik"
   ]
  }
 ],
 "metadata": {
  "kernelspec": {
   "display_name": "Python 3 (ipykernel)",
   "language": "python",
   "name": "python3"
  },
  "language_info": {
   "codemirror_mode": {
    "name": "ipython",
    "version": 3
   },
   "file_extension": ".py",
   "mimetype": "text/x-python",
   "name": "python",
   "nbconvert_exporter": "python",
   "pygments_lexer": "ipython3",
   "version": "3.11.13"
  }
 },
 "nbformat": 4,
 "nbformat_minor": 5
}
