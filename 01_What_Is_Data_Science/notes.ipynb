{
 "cells": [
  {
   "cell_type": "markdown",
   "id": "c9a0cfa5-daef-45b2-abdb-8d4c22ac3c6b",
   "metadata": {},
   "source": [
    "# `What is Data Science` - Course Summary"
   ]
  },
  {
   "cell_type": "markdown",
   "id": "b788e4bc-86a8-4929-8137-04d7d0a10c77",
   "metadata": {
    "jp-MarkdownHeadingCollapsed": true
   },
   "source": [
    "## 1. What is Data Science?\n",
    "- Data Science is about making sense of data.\n",
    "- It combines programming, statistics, and domain expertise.\n",
    "- Data can be structured (tables), semi-structured (JSON, XML), or unstructured (images, videos, text).\n",
    "- The goal is to convert raw data into useful insights and decisions."
   ]
  },
  {
   "cell_type": "markdown",
   "id": "1507e789-e85c-4131-8ed8-ac0ebe5f47b9",
   "metadata": {},
   "source": [
    "## 2. Why Data Science?\n",
    "- After 2009, when digital data exploded, Data Science became one of the most trending fields.\n",
    "- Huge demand + shortage of skilled people = very attractive salaries.\n",
    "- Almost every industry uses Data Science — finance, healthcare, e-commerce, transport, entertainment."
   ]
  },
  {
   "cell_type": "markdown",
   "id": "52b1bfcd-6877-49f8-975a-025ee77e558d",
   "metadata": {},
   "source": [
    "## 3. How to Become a Data Scientist?\n",
    "- **Technical skills:** Python/R, SQL, data wrangling, probability, statistics, ML basics, visualization tools.\n",
    "- **Soft skills:** Curiosity, judgment, problem solving, storytelling with data.\n",
    "- Not just coding — you must understand problems, ask good questions, and explain results clearly."
   ]
  },
  {
   "cell_type": "markdown",
   "id": "29eea3ee-916a-439c-bc49-467457102d15",
   "metadata": {},
   "source": [
    "## 4. Data Science Roles\n",
    "- **Data Analyst** → Prepares reports, dashboards, visualizations. Skills: SQL, Excel, BI tools. Avg salary: moderate.\n",
    "- **Data Engineer** → Manages pipelines, big data, cloud systems. Skills: SQL, Spark, cloud. Avg salary: high.\n",
    "- **Data Scientist** → Builds models, experiments, finds insights. Skills: stats, ML, Python. Avg salary: very high.\n",
    "- **ML Engineer** → Puts ML models into production. Skills: ML + software engineering. Avg salary: very high.\n",
    "- Roles overlap, but focus areas differ."
   ]
  },
  {
   "cell_type": "markdown",
   "id": "b887dc3a-2204-45fa-bfbb-95d467b88800",
   "metadata": {},
   "source": [
    "## 5. Some Important Terms\n",
    "- **Machine Learning (ML)** → Algorithms that learn from past data.\n",
    "- **Neural Networks (NN)** → Brain-inspired networks, basis for deep learning.\n",
    "- **Deep Learning (DL)** → Multi-layered NN, great for images, speech, text.\n",
    "- **Generative AI (GenAI)** → AI that *creates* new data (text, images, code). Examples: GANs, VAEs.\n",
    "- **Big Data** → Very large datasets that traditional tools can’t handle easily.\n",
    "- **Data Mining** → Extracting hidden patterns and relationships from data."
   ]
  },
  {
   "cell_type": "markdown",
   "id": "0d7bb813-bb44-4369-b430-c18d08fb1885",
   "metadata": {},
   "source": [
    "## 6. Data Literacy (Understanding Data)\n",
    "- **Structured Data**: Tables with rows & columns (SQL).\n",
    "- **Semi-Structured Data**: JSON, XML, logs (some structure).\n",
    "- **Unstructured Data**: Images, text, videos, social media.\n",
    "\n",
    "**Data Storage Options:**\n",
    "- Relational Databases → Organized, SQL-based.\n",
    "- NoSQL → Flexible for semi/unstructured data.\n",
    "- Data Warehouse → Central, cleaned, historical data.\n",
    "- Data Mart → Smaller warehouse for one department.\n",
    "- Data Lake → Raw storage, handles all formats.\n",
    "\n",
    "**Data Management:**\n",
    "- ETL (Extract, Transform, Load)\n",
    "- Data Pipelines (batch + streaming)\n",
    "- Metadata (data about data)"
   ]
  },
  {
   "cell_type": "markdown",
   "id": "274ef441-22fd-4d2d-9d56-b86f8906a286",
   "metadata": {},
   "source": [
    "## 7. How This Helps My AIML Journey\n",
    "- This course gave me the foundation before diving into AI/ML.\n",
    "- I now understand the importance of clean and structured data.\n",
    "- It taught me that tools are secondary — problem solving and communication matter more.\n",
    "- These basics will guide me as I move into ML, DL, and real-world projects."
   ]
  },
  {
   "cell_type": "markdown",
   "id": "f54d3259-c86b-42d2-9c37-0441c6930b4e",
   "metadata": {},
   "source": [
    "---\n",
    "## Note\n",
    "- This notebook is **inspired by** the *What is Data Science?* course offered by IBM on Coursera.  \n",
    "- It is **not a copy** of the course — I only wrote a **summary in my own words**, not the full content.  \n",
    "- The purpose is to share my personal understanding and how it connects to my AIML journey.  \n",
    "- This is for **learning purposes only**.  \n",
    "- Full credit to **IBM and the course instructors** for providing the original learning material and inspiration.  "
   ]
  },
  {
   "cell_type": "markdown",
   "id": "657cad84-a983-4df0-8900-f0936cb81b74",
   "metadata": {},
   "source": [
    "## Author\n",
    "Vijay Karthik"
   ]
  }
 ],
 "metadata": {
  "kernelspec": {
   "display_name": "Python 3 (ipykernel)",
   "language": "python",
   "name": "python3"
  },
  "language_info": {
   "codemirror_mode": {
    "name": "ipython",
    "version": 3
   },
   "file_extension": ".py",
   "mimetype": "text/x-python",
   "name": "python",
   "nbconvert_exporter": "python",
   "pygments_lexer": "ipython3",
   "version": "3.11.13"
  }
 },
 "nbformat": 4,
 "nbformat_minor": 5
}
